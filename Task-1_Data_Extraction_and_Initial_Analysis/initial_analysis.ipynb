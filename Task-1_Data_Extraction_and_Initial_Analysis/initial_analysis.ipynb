{
 "cells": [
  {
   "metadata": {
    "ExecuteTime": {
     "end_time": "2024-12-24T07:01:45.493046Z",
     "start_time": "2024-12-24T07:01:45.487843Z"
    }
   },
   "cell_type": "code",
   "source": "import pandas as pd",
   "id": "87dd996efd5fc4a0",
   "outputs": [],
   "execution_count": 2
  },
  {
   "metadata": {},
   "cell_type": "code",
   "outputs": [],
   "execution_count": null,
   "source": "",
   "id": "e510ca69ff032ecb"
  }
 ],
 "metadata": {
  "kernelspec": {
   "name": "python3",
   "language": "python",
   "display_name": "Python 3 (ipykernel)"
  }
 },
 "nbformat": 5,
 "nbformat_minor": 9
}
