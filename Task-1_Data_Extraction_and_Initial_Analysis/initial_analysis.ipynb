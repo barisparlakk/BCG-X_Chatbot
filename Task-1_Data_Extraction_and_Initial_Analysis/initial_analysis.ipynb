{
 "cells": [
  {
   "metadata": {
    "ExecuteTime": {
     "end_time": "2024-12-24T08:16:49.737683Z",
     "start_time": "2024-12-24T08:16:49.728112Z"
    }
   },
   "cell_type": "code",
   "source": [
    "import pandas as pd\n",
    "file_path = '/home/baris/Desktop/bcgxgenai/Task-1_Data_Extraction_and_Initial_Analysis/10K_Fillings.xlsx'\n",
    "df = pd.read_excel(file_path)"
   ],
   "id": "87dd996efd5fc4a0",
   "outputs": [],
   "execution_count": 25
  },
  {
   "metadata": {
    "ExecuteTime": {
     "end_time": "2024-12-24T09:10:31.400411Z",
     "start_time": "2024-12-24T09:10:31.391968Z"
    }
   },
   "cell_type": "code",
   "source": [
    "# Ensure the columns are strings before using .str accessor\n",
    "df['Total Revenue'] = df['Total Revenue'].astype(str)\n",
    "df['Net Income'] = df['Net Income'].astype(str)\n",
    "\n",
    "# Remove '$' and 'M' characters\n",
    "df['Total Revenue'] = df['Total Revenue'].str.replace('$', '').str.replace('M', '')\n",
    "df['Net Income'] = df['Net Income'].str.replace('$', '').str.replace('M', '')\n",
    "\n",
    "# Ensure the columns are numeric\n",
    "df['Total Revenue'] = pd.to_numeric(df['Total Revenue'], errors='coerce')\n",
    "df['Net Income'] = pd.to_numeric(df['Net Income'], errors='coerce')\n",
    "\n",
    "# Calculate year-over-year growth rates for Total Revenue and Net Income\n",
    "df['Revenue Growth (%)'] = df.groupby('Company Name')['Total Revenue'].pct_change(fill_method=None) * 100\n",
    "df['Net Income Growth (%)'] = df.groupby('Company Name')['Net Income'].pct_change(fill_method=None) * 100\n",
    "\n",
    "df['Revenue Growth (%)'].fillna(0, inplace=True)\n",
    "df['Net Income Growth (%)'].fillna(0, inplace=True)\n",
    "print(df)"
   ],
   "id": "e510ca69ff032ecb",
   "outputs": [
    {
     "name": "stdout",
     "output_type": "stream",
     "text": [
      "  Company Name  Fiscal Year  Total Revenue  Net Income Total Assets  \\\n",
      "0    Microsoft         2023         245122       88136     $512763M   \n",
      "1    Microsoft         2022         211915       72361     $411976M   \n",
      "2    Microsoft         2021         198270       72738     $364840M   \n",
      "3        Tesla         2023          96773       14974     $106618M   \n",
      "4        Tesla         2022          81462       12556      $82338M   \n",
      "5        Tesla         2021          53823        5519      $62131M   \n",
      "6        Apple         2023         391035       93736     $364980M   \n",
      "7        Apple         2022         383285       96995     $352583M   \n",
      "8        Apple         2021         394328       99803     $352755M   \n",
      "\n",
      "  Total Liabilities Cash Flow from Operating Activities  Revenue Growth (%)  \\\n",
      "0          $243686M                            $118548M            0.000000   \n",
      "1          $205753M                             $87582M          -13.547132   \n",
      "2          $198298M                             $89035M           -6.438902   \n",
      "3           $43009M                             $13256M            0.000000   \n",
      "4           $36440M                             $14724M          -15.821562   \n",
      "5           $30548M                             $11497M          -33.928703   \n",
      "6          $308030M                            $118254M            0.000000   \n",
      "7          $290437M                            $110543M           -1.981920   \n",
      "8          $302083M                            $122151M            2.881146   \n",
      "\n",
      "   Net Income Growth (%)  \n",
      "0               0.000000  \n",
      "1             -17.898475  \n",
      "2               0.520999  \n",
      "3               0.000000  \n",
      "4             -16.147990  \n",
      "5             -56.044919  \n",
      "6               0.000000  \n",
      "7               3.476786  \n",
      "8               2.894995  \n"
     ]
    }
   ],
   "execution_count": 36
  },
  {
   "metadata": {
    "ExecuteTime": {
     "end_time": "2024-12-24T09:06:24.432170Z",
     "start_time": "2024-12-24T09:06:24.430173Z"
    }
   },
   "cell_type": "code",
   "source": "",
   "id": "856429f426732078",
   "outputs": [],
   "execution_count": null
  },
  {
   "metadata": {},
   "cell_type": "code",
   "outputs": [],
   "execution_count": null,
   "source": "",
   "id": "44e0b252c58c15de"
  }
 ],
 "metadata": {
  "kernelspec": {
   "name": "python3",
   "language": "python",
   "display_name": "Python 3 (ipykernel)"
  }
 },
 "nbformat": 5,
 "nbformat_minor": 9
}
